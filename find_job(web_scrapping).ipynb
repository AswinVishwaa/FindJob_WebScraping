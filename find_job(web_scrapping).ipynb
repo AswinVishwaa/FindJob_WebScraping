{
  "nbformat": 4,
  "nbformat_minor": 0,
  "metadata": {
    "colab": {
      "provenance": []
    },
    "kernelspec": {
      "name": "python3",
      "display_name": "Python 3"
    },
    "language_info": {
      "name": "python"
    }
  },
  "cells": [
    {
      "cell_type": "code",
      "execution_count": null,
      "metadata": {
        "id": "oMaevzYvoeSa"
      },
      "outputs": [],
      "source": [
        "from bs4 import BeautifulSoup\n",
        "import requests\n",
        "import time"
      ]
    },
    {
      "cell_type": "code",
      "source": [
        "print(\"Enter unfamiliar skills\")\n",
        "unfamiliar_skill=input('<O>')"
      ],
      "metadata": {
        "id": "ejLgb0xookOt",
        "colab": {
          "base_uri": "https://localhost:8080/"
        },
        "outputId": "90b138cd-ed63-4ff9-a01d-3e2a4a0035b7"
      },
      "execution_count": null,
      "outputs": [
        {
          "name": "stdout",
          "output_type": "stream",
          "text": [
            "Enter unfamiliar skills\n",
            "<O>mangoDB,sql\n"
          ]
        }
      ]
    },
    {
      "cell_type": "code",
      "source": [
        "def find_jobs():\n",
        "  html_text = requests.get(\"https://www.timesjobs.com/candidate/job-search.html?searchType=personalizedSearch&from=submit&txtKeywords=python&txtLocation=\").text\n",
        "  soup = BeautifulSoup(html_text,'lxml')\n",
        "  jobs = soup.find_all(\"li\",class_=\"clearfix job-bx wht-shd-bx\")\n",
        "  for index,job in enumerate(jobs):\n",
        "    period = job.find(\"span\",class_=\"sim-posted\").span.text\n",
        "    if \"few\" in period:\n",
        "      company_name=job.find(\"h3\",class_=\"joblist-comp-name\").text.replace(' ','')\n",
        "      skills = job.find(\"span\",class_=\"srp-skills\").text.replace(' ','')\n",
        "      link = job.header.h2.a[\"href\"]\n",
        "      if unfamiliar_skill not in skills:\n",
        "        print(f\"Company_Name    : {company_name.strip()}\")\n",
        "        print(f\"Required Skills : {skills.strip()}\")\n",
        "        print(f\"More Info       : {link}\")\n",
        "        print(\"\")\n",
        "\n",
        "if __name__ == '__main__':\n",
        "  while True:\n",
        "    find_jobs()\n",
        "    waiting_time=10\n",
        "    print(f\"please wait for {waiting_time} minutes\")\n",
        "    #time.sleep(waiting_time*60)"
      ],
      "metadata": {
        "id": "dN6gF29GtyeD"
      },
      "execution_count": null,
      "outputs": []
    },
    {
      "cell_type": "code",
      "source": [],
      "metadata": {
        "id": "NSbuTaBHuxPz"
      },
      "execution_count": null,
      "outputs": []
    }
  ]
}